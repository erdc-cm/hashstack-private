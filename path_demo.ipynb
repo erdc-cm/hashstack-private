{
 "metadata": {
  "name": "",
  "signature": "sha256:98a52c5a97694b133ab4978394359ca944e795e74d9e70173d66714b66a29672"
 },
 "nbformat": 3,
 "nbformat_minor": 0,
 "worksheets": [
  {
   "cells": [
    {
     "cell_type": "markdown",
     "metadata": {},
     "source": [
      "# Setting Interactive Map Paths using IPython Notebook Widgets and folium\n",
      "\n",
      "Requirements:\n",
      "* folium-drawpath\n",
      "* IPython >= 2.0\n",
      "\n",
      "These are automatically included in the following OS X HashStack profile:\n",
      "\n",
      "```\n",
      "extends:\n",
      " - name: hashstack\n",
      "   urls: ['https://github.com/hashdist/hashstack.git']\n",
      "   key: 'git:3aa81b2cd02b7922bb0bf01e8ae1586501b530d6'\n",
      "   file: osx.yaml\n",
      "\n",
      "packages:\n",
      "  launcher:\n",
      "  folium-drawpath:\n",
      "  python:\n",
      "    host: false\n",
      "    build_with: |\n",
      "  blas:\n",
      "    use: host-osx-framework-accelerate\n",
      "  freetype:\n",
      "    use: host-freetype\n",
      "  matplotlib:\n",
      "  ipython:\n",
      "```"
     ]
    },
    {
     "cell_type": "code",
     "collapsed": false,
     "input": [
      "from IPython.display import display \n",
      "import folium"
     ],
     "language": "python",
     "metadata": {},
     "outputs": []
    },
    {
     "cell_type": "code",
     "collapsed": false,
     "input": [
      "map = folium.Map(location=[34.53, -77.34], zoom_start=10)\n",
      "map.inline_map()"
     ],
     "language": "python",
     "metadata": {},
     "outputs": []
    },
    {
     "cell_type": "code",
     "collapsed": false,
     "input": [
      "x = folium.MapPathWidget()\n",
      "display(x)"
     ],
     "language": "python",
     "metadata": {},
     "outputs": []
    },
    {
     "cell_type": "code",
     "collapsed": false,
     "input": [],
     "language": "python",
     "metadata": {},
     "outputs": []
    }
   ],
   "metadata": {}
  }
 ]
}